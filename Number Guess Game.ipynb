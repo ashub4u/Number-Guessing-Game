{
 "cells": [
  {
   "cell_type": "markdown",
   "id": "8e060b07",
   "metadata": {},
   "source": [
    "# WELCOME TO NUMBER-GUESS-GAME!\n",
    "- I'm thinking of a number between 1 and 100\n",
    "- If your guess is more than 10 away from my number, I'll tell you you're COLD\n",
    "- If your guess is within 10 of my number, I'll tell you you're WARM\n",
    "- If your guess is farther than your most recent guess, I'll say you're getting COLDER\n",
    "- If your guess is closer than your most recent guess, I'll say you're getting WARMER\n",
    "### LET'S PLAY!"
   ]
  },
  {
   "cell_type": "code",
   "execution_count": 14,
   "id": "3f07d065",
   "metadata": {},
   "outputs": [],
   "source": [
    "from random import randint"
   ]
  },
  {
   "cell_type": "code",
   "execution_count": 15,
   "id": "883cf5a4",
   "metadata": {},
   "outputs": [
    {
     "name": "stdout",
     "output_type": "stream",
     "text": [
      "89\n"
     ]
    }
   ],
   "source": [
    "rand=randint(1,100)\n",
    "print(rand)"
   ]
  },
  {
   "cell_type": "code",
   "execution_count": 21,
   "id": "90d51bc5",
   "metadata": {},
   "outputs": [
    {
     "name": "stdout",
     "output_type": "stream",
     "text": [
      "Guess a number between 1 and 100:76\n",
      "COLD!\n",
      "Guess a number between 1 and 100:89\n",
      "CONGARTS! YOU GUESSED IT RIGHT IN 2 GUESSES\n"
     ]
    }
   ],
   "source": [
    "guess_list=[0]\n",
    "while True:\n",
    "    guess=int(input('Guess a number between 1 and 100:' ))\n",
    "    \n",
    "    if guess>100 or guess<1:\n",
    "        print('OUT OF BOUND! Try again...')\n",
    "        continue\n",
    "        \n",
    "    if guess==rand:\n",
    "        print('CONGARTS! YOU GUESSED IT RIGHT IN {} GUESSES'.format(len(guess_list)))\n",
    "        break\n",
    "        \n",
    "    guess_list.append(guess)\n",
    "    \n",
    "    if guess_list[-2]:\n",
    "        if abs(guess-rand)<abs(guess_list[-2]-rand):\n",
    "            print('WARMER!')\n",
    "        else:\n",
    "            print('COLDER!')\n",
    "    else:\n",
    "        if abs(guess-rand)<10:\n",
    "            print('WARM!')\n",
    "        else:\n",
    "            print('COLD!')"
   ]
  },
  {
   "cell_type": "code",
   "execution_count": null,
   "id": "e5cedaac",
   "metadata": {},
   "outputs": [],
   "source": []
  },
  {
   "cell_type": "code",
   "execution_count": null,
   "id": "49f4ef05",
   "metadata": {},
   "outputs": [],
   "source": []
  }
 ],
 "metadata": {
  "kernelspec": {
   "display_name": "Python 3 (ipykernel)",
   "language": "python",
   "name": "python3"
  },
  "language_info": {
   "codemirror_mode": {
    "name": "ipython",
    "version": 3
   },
   "file_extension": ".py",
   "mimetype": "text/x-python",
   "name": "python",
   "nbconvert_exporter": "python",
   "pygments_lexer": "ipython3",
   "version": "3.9.13"
  }
 },
 "nbformat": 4,
 "nbformat_minor": 5
}
